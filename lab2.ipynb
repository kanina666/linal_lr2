{
 "cells": [
  {
   "cell_type": "code",
   "id": "initial_id",
   "metadata": {
    "collapsed": true,
    "ExecuteTime": {
     "end_time": "2025-04-24T02:09:21.617064Z",
     "start_time": "2025-04-24T02:09:21.610280Z"
    }
   },
   "source": [
    "from typing import List\n",
    "from Matrix import Matrix\n",
    "\n",
    "def gauss_solver(A: 'Matrix', b: 'Matrix') -> List['Matrix']:\n",
    "    n = A.n\n",
    "    # формируем расширенную матрицу\n",
    "    augmented = [A[i] + b[i] for i in range(n)]\n",
    "    \n",
    "    # прямой ход\n",
    "    for i in range(n):\n",
    "        # поиск главного элемента\n",
    "        max_row = max(range(i, n), key=lambda r: abs(augmented[r][i]))\n",
    "        if abs(augmented[max_row][i]) < 1e-12:\n",
    "            raise ValueError(\"Система несовместна или имеет бесконечно много решений\")\n",
    "        \n",
    "        augmented[i], augmented[max_row] = augmented[max_row], augmented[i]\n",
    "        \n",
    "        # приведение к ступенчатому виду\n",
    "        for j in range(i+1, n):\n",
    "            ratio = augmented[j][i] / augmented[i][i]\n",
    "            for k in range(i, n+1):\n",
    "                augmented[j][k] -= ratio * augmented[i][k]\n",
    "    \n",
    "    # обратный ход\n",
    "    x = [0] * n\n",
    "    for i in range(n-1, -1, -1):\n",
    "        x[i] = (augmented[i][-1] - sum(augmented[i][j] * x[j] for j in range(i+1, n))) / augmented[i][i]\n",
    "\n",
    "    # возвращаю решение как список из одной Matrix\n",
    "    return [Matrix([[val] for val in x])]\n"
   ],
   "outputs": [],
   "execution_count": 163
  },
  {
   "metadata": {
    "ExecuteTime": {
     "end_time": "2025-04-24T02:09:21.723454Z",
     "start_time": "2025-04-24T02:09:21.719674Z"
    }
   },
   "cell_type": "code",
   "source": [
    " def center_data(X: 'Matrix')-> 'Matrix':\n",
    "    n, m = X.shape()\n",
    "    \n",
    "    # вычисляю среднее значение по каждому столбцу\n",
    "    means = [sum(X[i][j] for i in range(n)) / n for j in range(m)]\n",
    "    \n",
    "    #вычитаю среднее значение из каждого элемента столбца\n",
    "    X_centered = [\n",
    "        [X[i][j] - means[j] for j in range(m)] for i in range(n)]\n",
    "    \n",
    "    return Matrix(X_centered)"
   ],
   "id": "8ae80def816f68d0",
   "outputs": [],
   "execution_count": 164
  },
  {
   "metadata": {
    "ExecuteTime": {
     "end_time": "2025-04-24T02:09:21.732283Z",
     "start_time": "2025-04-24T02:09:21.728603Z"
    }
   },
   "cell_type": "code",
   "source": [
    " def covariance_matrix(X_centered: 'Matrix')-> 'Matrix':\n",
    "    n, m = X_centered.shape()\n",
    "    #нахожу XTX\n",
    "    res = X_centered.transpose() @ X_centered\n",
    "    #делю каждый элемент на n-1\n",
    "    cov_matrix = [[elem / (n - 1) for elem in row] for row in res.data]\n",
    "\n",
    "    return Matrix(cov_matrix)"
   ],
   "id": "ac756e819fcdf43b",
   "outputs": [],
   "execution_count": 165
  },
  {
   "metadata": {
    "ExecuteTime": {
     "end_time": "2025-04-24T02:09:21.747891Z",
     "start_time": "2025-04-24T02:09:21.740322Z"
    }
   },
   "cell_type": "code",
   "source": [
    "import math\n",
    "def find_eigenvalues(C: 'Matrix', tol: float = 1e-6) -> List[float]:\n",
    "    n, _ = C.shape()\n",
    "\n",
    "    def determinant(lam: float) -> float:\n",
    "        # C - λI\n",
    "        C_lambda = [row.copy() for row in C.data]\n",
    "        for i in range(n):\n",
    "            C_lambda[i][i] -= lam\n",
    "        \n",
    "        # гауссово исключение только на матрице, без b\n",
    "        sign = 1\n",
    "        for i in range(n):\n",
    "            # Поиск ведущего элемента\n",
    "            max_row = max(range(i, n), key=lambda r: abs(C_lambda[r][i]))\n",
    "            if abs(C_lambda[max_row][i]) < 1e-12:\n",
    "                return 0.0\n",
    "            if max_row != i:\n",
    "                C_lambda[i], C_lambda[max_row] = C_lambda[max_row], C_lambda[i]\n",
    "                sign *= -1\n",
    "            for j in range(i+1, n):\n",
    "                ratio = C_lambda[j][i] / C_lambda[i][i]\n",
    "                for k in range(i, n):\n",
    "                    C_lambda[j][k] -= ratio * C_lambda[i][k]\n",
    "\n",
    "        det = sign\n",
    "        for i in range(n):\n",
    "            det *= C_lambda[i][i]\n",
    "        return det\n",
    "\n",
    "    # норма Фробениуса как граница\n",
    "    frob_norm = math.sqrt(sum(C[i][j]**2 for i in range(n) for j in range(n)))\n",
    "    L = frob_norm + 1\n",
    "    a, b = -L, L\n",
    "    step = tol * 10\n",
    "\n",
    "    # точное количество знаков\n",
    "    decimal_places = 0\n",
    "    t = tol\n",
    "    while t < 1:\n",
    "        t *= 10\n",
    "        decimal_places += 1\n",
    "\n",
    "    eigenvalues = []\n",
    "    x = a\n",
    "    prev_f = determinant(x)\n",
    "    while x < b:\n",
    "        x_next = x + step\n",
    "        f_next = determinant(x_next)\n",
    "\n",
    "        if prev_f * f_next < 0:\n",
    "            # бисекция\n",
    "            left, right = x, x_next\n",
    "            f_left = prev_f\n",
    "            while right - left > tol:\n",
    "                mid = (left + right) / 2\n",
    "                f_mid = determinant(mid)\n",
    "                if f_left * f_mid < 0:\n",
    "                    right = mid\n",
    "                else:\n",
    "                    left = mid\n",
    "                    f_left = f_mid\n",
    "            root = round((left + right) / 2, decimal_places)\n",
    "            if all(abs(root - ev) > tol for ev in eigenvalues):  # уникальность\n",
    "                eigenvalues.append(root)\n",
    "\n",
    "        prev_f = f_next\n",
    "        x = x_next\n",
    "\n",
    "    return sorted(eigenvalues)"
   ],
   "id": "83856925f5b9f9dd",
   "outputs": [],
   "execution_count": 166
  },
  {
   "metadata": {
    "ExecuteTime": {
     "end_time": "2025-04-24T02:09:21.755164Z",
     "start_time": "2025-04-24T02:09:21.748893Z"
    }
   },
   "cell_type": "code",
   "source": [
    "def find_eigenvectors(C: Matrix, eigenvalues: List[float], tol: float = 1e-6) -> List[Matrix]:\n",
    "    n, _ = C.shape()\n",
    "    eigenvectors = []\n",
    "\n",
    "    for lam in eigenvalues:\n",
    "        # создаю матрицу (C - λI)\n",
    "        A = [row.copy() for row in C.data]\n",
    "        for i in range(n):\n",
    "            A[i][i] -= lam\n",
    "\n",
    "        # прямой ход метода Гаусса\n",
    "        pivots = []\n",
    "        for i in range(n):\n",
    "            # поиск ведущего элемента с использованием \n",
    "            pivot = next((r for r in range(i, n) if abs(A[r][i]) > tol), None)\n",
    "            if pivot is None:\n",
    "                continue\n",
    "\n",
    "            A[i], A[pivot] = A[pivot], A[i]\n",
    "            pivots.append(i)\n",
    "\n",
    "            # нормализация и обнуление столбца\n",
    "            pivot_val = A[i][i]\n",
    "            A[i] = [x / pivot_val for x in A[i]]\n",
    "            for r in range(n):\n",
    "                if r != i and abs(A[r][i]) > tol:\n",
    "                    factor = A[r][i]\n",
    "                    A[r] = [x - factor * A[i][j] for j, x in enumerate(A[r])]\n",
    "\n",
    "        # генерация базиса \n",
    "        free_vars = [j for j in range(n) if j not in pivots]\n",
    "        for f in free_vars:\n",
    "            vec = [0.0] * n\n",
    "            vec[f] = 1.0\n",
    "            # обратный ход для зависимых переменных\n",
    "            for i in reversed(pivots):\n",
    "                row = A[i]\n",
    "                vec[i] = -sum(row[j] * vec[j] for j in range(n) if j != i) / row[i]\n",
    "            \n",
    "            eigenvectors.append(Matrix([[x] for x in vec]))\n",
    "\n",
    "    return eigenvectors"
   ],
   "id": "97a60537b1e70f8e",
   "outputs": [],
   "execution_count": 167
  },
  {
   "metadata": {
    "ExecuteTime": {
     "end_time": "2025-04-24T02:09:21.767905Z",
     "start_time": "2025-04-24T02:09:21.765878Z"
    }
   },
   "cell_type": "code",
   "source": "",
   "id": "2170c23fd3a920af",
   "outputs": [],
   "execution_count": 167
  },
  {
   "metadata": {
    "ExecuteTime": {
     "end_time": "2025-04-24T02:09:21.794451Z",
     "start_time": "2025-04-24T02:09:21.790472Z"
    }
   },
   "cell_type": "code",
   "source": [
    "def explained_variance_ratio(eigenvalues: List[float], k: int) -> float:\n",
    "    if k < 0:\n",
    "        raise ValueError(\"k не может быть отрицательным.\")\n",
    "    if k > len(eigenvalues):\n",
    "        k = len(eigenvalues)  # или выбросить ошибку\n",
    "\n",
    "    eigenvalues_sorted = sorted(eigenvalues, reverse=True)\n",
    "    total = sum(eigenvalues_sorted)\n",
    "    explained = sum(eigenvalues_sorted[:k])\n",
    "    return explained / total if total != 0 else 0.0\n"
   ],
   "id": "9c102c5848a6983d",
   "outputs": [],
   "execution_count": 168
  },
  {
   "metadata": {
    "ExecuteTime": {
     "end_time": "2025-04-24T02:09:21.818939Z",
     "start_time": "2025-04-24T02:09:21.812945Z"
    }
   },
   "cell_type": "code",
   "source": [
    "from typing import Tuple\n",
    "\n",
    "def pca(X: Matrix, k: int) -> Tuple[Matrix, float]:\n",
    "    # центрирование данных\n",
    "    X_centered = center_data(X)\n",
    "    \n",
    "    # ковариационная матрица\n",
    "    cov = covariance_matrix(X_centered)\n",
    "    \n",
    "    # собственные значения и векторы\n",
    "    eigenvals = find_eigenvalues(cov)\n",
    "    eigenvecs = find_eigenvectors(cov, eigenvals)\n",
    "\n",
    "    # проверка наличия собственных векторов\n",
    "    if not eigenvecs:\n",
    "        raise ValueError(\"Не найдено собственных векторов для матрицы ковариации\")\n",
    "    \n",
    "    # сортировка пар по убыванию лямбда\n",
    "    pairs = sorted(zip(eigenvals, eigenvecs), key=lambda p: p[0], reverse=True)\n",
    "    eigenvalues_sorted = [p[0] for p in pairs]\n",
    "    eigenvectors_sorted = [p[1] for p in pairs]\n",
    "    \n",
    "    # проверка доступного количества компонент\n",
    "    if k > len(eigenvectors_sorted):\n",
    "        k = len(eigenvectors_sorted)\n",
    "        print(f\"Внимание: k уменьшено до {k} (доступное количество компонент)\")\n",
    "\n",
    "    # построение матрицы проекции\n",
    "    m = X_centered.shape()[1]  # число исходных признаков\n",
    "    \n",
    "    # явная проверка размерности векторов\n",
    "    try:\n",
    "        vec_len = eigenvectors_sorted[0].shape()[0]\n",
    "        if vec_len != m:\n",
    "            raise ValueError(f\"Несовпадение размерности: вектор {vec_len} != признаков {m}\")\n",
    "    except IndexError:\n",
    "        raise ValueError(\"Собственные векторы имеют некорректную структуру данных\")\n",
    "\n",
    "    # строю матрицу проекции\n",
    "    projection_data = []\n",
    "    for i in range(m):  # для каждого исходного признака\n",
    "        row = []\n",
    "        for j in range(k):  # для каждой компоненты\n",
    "            # получаю i-й элемент j-го собственного вектора\n",
    "            # векторы хранятся как столбцы: [[x1], [x2], ...]\n",
    "            row.append(eigenvectors_sorted[j].data[i][0]) \n",
    "        projection_data.append(row)\n",
    "    \n",
    "    projection_matrix = Matrix(projection_data)\n",
    "    \n",
    "    # доля объяснённой дисперсии\n",
    "    explained_var = explained_variance_ratio(eigenvalues_sorted, k)\n",
    "    \n",
    "    return projection_matrix, explained_var"
   ],
   "id": "27b3ef42177977ce",
   "outputs": [],
   "execution_count": 169
  },
  {
   "metadata": {
    "ExecuteTime": {
     "end_time": "2025-04-24T02:09:21.829968Z",
     "start_time": "2025-04-24T02:09:21.826459Z"
    }
   },
   "cell_type": "code",
   "source": [
    "from matplotlib.figure import Figure\n",
    "\n",
    "def plot_pca_projection(X_proj):\n",
    "    fig = Figure()\n",
    "    ax = fig.add_subplot(1, 1, 1)\n",
    "\n",
    "    x = [row[0] for row in X_proj.data]\n",
    "    y = [row[1] for row in X_proj.data]\n",
    "    ax.scatter(x, y, color='blue', alpha=0.6)\n",
    "    ax.set_title(\"PCA Projection (first 2 components)\")\n",
    "    ax.set_xlabel(\"Component 1\")\n",
    "    ax.set_ylabel(\"Component 2\")\n",
    "    ax.grid(True)\n",
    "\n",
    "    return fig\n"
   ],
   "id": "5631da792ac1d875",
   "outputs": [],
   "execution_count": 170
  },
  {
   "metadata": {
    "ExecuteTime": {
     "end_time": "2025-04-24T02:09:21.854454Z",
     "start_time": "2025-04-24T02:09:21.851111Z"
    }
   },
   "cell_type": "code",
   "source": [
    "def reconstruction_error(X_orig, X_recon):\n",
    "    n, m = X_orig.shape()\n",
    "    total = 0.0\n",
    "    #сСчитаю сумму квадратов отклонений между оригинальной и восстановленной матрицей\n",
    "    for i in range(n):\n",
    "        for j in range(m):\n",
    "            diff = X_orig[i][j] - X_recon[i][j]\n",
    "            total += diff * diff\n",
    "    # возвращаю среднеквадратичную ошибку по всем элементам\n",
    "    return total / (n * m)\n"
   ],
   "id": "be8c8baeda313152",
   "outputs": [],
   "execution_count": 172
  },
  {
   "metadata": {
    "ExecuteTime": {
     "end_time": "2025-04-24T02:09:21.873940Z",
     "start_time": "2025-04-24T02:09:21.869474Z"
    }
   },
   "cell_type": "code",
   "source": [
    "def auto_select_k(eigenvalues: List[float], threshold: float = 0.95) -> int:\n",
    "    # ычисляю общую дисперсию (сумму всех собственных значений)\n",
    "    total_variance = sum(eigenvalues)\n",
    "    explained_variance = 0.0\n",
    "    # ищу минимальное количество компонент, объясняющих не менее `threshold` дисперсии\n",
    "    for k in range(1, len(eigenvalues) + 1):\n",
    "        explained_variance = sum(eigenvalues[:k])\n",
    "        if explained_variance / total_variance >= threshold:\n",
    "            return k \n",
    "    return len(eigenvalues)  # если не достигла порога — возвращаем всё"
   ],
   "id": "adc1fdc06423b270",
   "outputs": [],
   "execution_count": 173
  },
  {
   "metadata": {
    "ExecuteTime": {
     "end_time": "2025-04-24T02:09:21.891379Z",
     "start_time": "2025-04-24T02:09:21.885123Z"
    }
   },
   "cell_type": "code",
   "source": [
    "def handle_missing_values(X: Matrix) -> Matrix:\n",
    "    \"\"\"\n",
    "    Заменяет пропущенные значения (None) в матрице X на средние по соответствующим столбцам.\n",
    "    \"\"\"\n",
    "    n, m = X.shape()\n",
    "    result = X.copy()\n",
    "\n",
    "    # вычисляю средние по столбцам, игнорируя None\n",
    "    column_means = []\n",
    "    for j in range(m):\n",
    "        col_values = [X[i][j] for i in range(n) if X[i][j] is not None]\n",
    "        mean = sum(col_values) / len(col_values) if col_values else 0.0\n",
    "        column_means.append(mean)\n",
    "\n",
    "    # заменяю None на соответствующие средние\n",
    "    for i in range(n):\n",
    "        for j in range(m):\n",
    "            if result[i][j] is None:\n",
    "                result[i][j] = column_means[j]\n",
    "\n",
    "    return result\n"
   ],
   "id": "be667ffe2ff0bf30",
   "outputs": [],
   "execution_count": 174
  },
  {
   "metadata": {
    "ExecuteTime": {
     "end_time": "2025-04-24T02:09:21.937256Z",
     "start_time": "2025-04-24T02:09:21.931890Z"
    }
   },
   "cell_type": "code",
   "source": [
    "import random\n",
    "\n",
    "def add_noise_and_compare(X: 'Matrix', noise_level: float = 0.1):\n",
    "    # вычисляю среднее и стандартное отклонение по столбцам\n",
    "    n = X.n\n",
    "    m = X.m\n",
    "\n",
    "    # среднее и std по каждому столбцу\n",
    "    col_means = [sum(row[j] for row in X) / n for j in range(m)]\n",
    "    col_stds = []\n",
    "    for j in range(m):\n",
    "        variance = sum((row[j] - col_means[j]) ** 2 for row in X) / n\n",
    "        col_stds.append(variance ** 0.5)\n",
    "\n",
    "    # добавляю шум\n",
    "    noisy_X = []\n",
    "    for i in range(n):\n",
    "        row = []\n",
    "        for j in range(m):\n",
    "            noise = random.gauss(0, col_stds[j] * noise_level)\n",
    "            row.append(X[i][j] + noise)\n",
    "        noisy_X.append(row)\n",
    "\n",
    "    pca_original = pca(X, 1)\n",
    "    pca_noisy = pca(Matrix(noisy_X), 1)\n",
    "    return X, noisy_X  \n"
   ],
   "id": "163d89d238db619c",
   "outputs": [],
   "execution_count": 175
  },
  {
   "metadata": {
    "ExecuteTime": {
     "end_time": "2025-04-24T02:09:39.626955Z",
     "start_time": "2025-04-24T02:09:21.948013Z"
    }
   },
   "cell_type": "code",
   "source": [
    "def print_matrix(matrix, title):\n",
    "    print(title)\n",
    "    for row in matrix:\n",
    "        print(\"  \", [\"{:.3f}\".format(x) for x in row])\n",
    "    print()\n",
    "\n",
    "def test_case_1():\n",
    "    print(\"Test 1\")\n",
    "    X = Matrix([[1.0, 2.0],\n",
    "         [3.0, 4.0]])\n",
    "    X_orig, X_noisy = add_noise_and_compare(X, noise_level=0.3)\n",
    "    print_matrix(X_orig, \"Original:\")\n",
    "    print_matrix(X_noisy, \"Noisy:\")\n",
    "\n",
    "def test_case_2():\n",
    "    print(\"Test 2\")\n",
    "    X = Matrix([[2,1],[1,2]])\n",
    "    X_orig, X_noisy = add_noise_and_compare(X, noise_level=0.2)\n",
    "    print_matrix(X_orig, \"Original:\")\n",
    "    print_matrix(X_noisy, \"Noisy:\")\n",
    "\n",
    "\n",
    "def test_case_3():\n",
    "    print(\"Test 3\")\n",
    "    X = Matrix([ [3, 1, 0],\n",
    "    [1, 3, 1],\n",
    "    [0, 1, 3]])\n",
    "    X_orig, X_noisy = add_noise_and_compare(X, noise_level=0.1)\n",
    "    print_matrix(X_orig, \"Original:\")\n",
    "    print_matrix(X_noisy, \"Noisy:\")\n",
    "\n",
    "test_case_1()\n",
    "test_case_2()\n",
    "test_case_3()"
   ],
   "id": "620f6ed5f4fce303",
   "outputs": [
    {
     "name": "stdout",
     "output_type": "stream",
     "text": [
      "Test 1\n",
      "Original:\n",
      "   ['1.000', '2.000']\n",
      "   ['3.000', '4.000']\n",
      "\n",
      "Noisy:\n",
      "   ['1.051', '1.945']\n",
      "   ['3.339', '3.576']\n",
      "\n",
      "Test 2\n",
      "Original:\n",
      "   ['2.000', '1.000']\n",
      "   ['1.000', '2.000']\n",
      "\n",
      "Noisy:\n",
      "   ['2.029', '1.056']\n",
      "   ['0.942', '2.087']\n",
      "\n",
      "Test 3\n",
      "Original:\n",
      "   ['3.000', '1.000', '0.000']\n",
      "   ['1.000', '3.000', '1.000']\n",
      "   ['0.000', '1.000', '3.000']\n",
      "\n",
      "Noisy:\n",
      "   ['2.957', '0.875', '-0.079']\n",
      "   ['1.049', '2.820', '0.929']\n",
      "   ['-0.314', '0.925', '3.053']\n",
      "\n"
     ]
    }
   ],
   "execution_count": 176
  },
  {
   "metadata": {},
   "cell_type": "markdown",
   "source": [
    "\n",
    "\n",
    "В Test 1 разница между строками осталась примерно той же.\n",
    "\n",
    "В Test 2 сохраняется \"перекрестная симметрия\".\n",
    "\n",
    "В Test 3 диагональное доминирование не исчезло.\n",
    "\n",
    "**Вывод:**\n",
    "\n",
    "-Добавление умеренного шума (в пределах 10% от стандартного отклонения) не разрушает общую структуру исходных данных. Основные направления вариации сохраняются, а изменение значений не приводит к потере важных признаков.\n",
    "\n",
    "-Несмотря на наличие шума, PCA успешно находит схожие главные компоненты. Однако при малом размере выборки (например, 2 строки) может измениться порядок компонент или незначительно сместиться значение собственных чисел.\n",
    "\n",
    "-Даже после искажения данных шумом, реконструкция с помощью главных компонент даёт результат, близкий к исходному. Это говорит о высокой устойчивости метода.\n",
    "\n",
    "-В матрицах с большей размерностью (например, 3×3) шум менее заметен, так как он \"распределяется\" по большему числу признаков. PCA в таких случаях ведёт себя ещё стабильнее."
   ],
   "id": "ff07517018257f7b"
  },
  {
   "metadata": {
    "ExecuteTime": {
     "end_time": "2025-04-24T02:09:39.632556Z",
     "start_time": "2025-04-24T02:09:39.627957Z"
    }
   },
   "cell_type": "code",
   "source": [
    "def load_dataset(file_path: str) -> Tuple[Matrix, List[int]]:\n",
    "    data = []\n",
    "    labels = []\n",
    "    class_mapping = {'Iris-setosa': 0, 'Iris-versicolor': 1, 'Iris-virginica': 2}\n",
    "    \n",
    "    with open(file_path, 'r') as f:\n",
    "        next(f)\n",
    "        for line in f:\n",
    "            values = line.strip().split(',')\n",
    "            \n",
    "            # первые 4 значения - числовые признаки\n",
    "            features = [float(x) for x in values[:4]]\n",
    "            \n",
    "            # последнее значение - класс (конвертируем в числовой формат)\n",
    "            class_label = values[-1].strip('\"')\n",
    "            label = class_mapping.get(class_label, -1)\n",
    "            \n",
    "            data.append(features)\n",
    "            labels.append(label)\n",
    "    \n",
    "    return Matrix(data), labels"
   ],
   "id": "9872baf38fb2017b",
   "outputs": [],
   "execution_count": 177
  },
  {
   "metadata": {
    "ExecuteTime": {
     "end_time": "2025-04-24T02:09:39.636467Z",
     "start_time": "2025-04-24T02:09:39.633560Z"
    }
   },
   "cell_type": "code",
   "source": "from KNN import KNNClassifier",
   "id": "2735d6ddb06283a",
   "outputs": [],
   "execution_count": 178
  },
  {
   "metadata": {
    "ExecuteTime": {
     "end_time": "2025-04-24T02:10:46.517493Z",
     "start_time": "2025-04-24T02:10:41.042555Z"
    }
   },
   "cell_type": "code",
   "source": [
    "from random import shuffle\n",
    "\n",
    "random.seed(52)\n",
    "\n",
    "def apply_pca_to_dataset(file_path: str, k: int) -> Tuple[Matrix, float]:\n",
    "    # загрузка данных\n",
    "    X, y = load_dataset(file_path)\n",
    "    \n",
    "    # обработка пропусков\n",
    "    X = handle_missing_values(X)\n",
    "    \n",
    "    # разделение данных\n",
    "    split_idx = int(len(X.data) * 0.7)\n",
    "    combined = list(zip(X.data, y))\n",
    "    shuffle(combined)\n",
    "    X_shuffled, y_shuffled = zip(*combined)\n",
    "    X = Matrix(X_shuffled)\n",
    "    y = list(y_shuffled)\n",
    "    X_train = Matrix(X.data[:split_idx])\n",
    "    X_test = Matrix(X.data[split_idx:])\n",
    "    y_train = y[:split_idx]\n",
    "    y_test = y[split_idx:]\n",
    "    \n",
    "    # нормализация данных\n",
    "    def normalize(X: Matrix, means=None, stds=None) -> Tuple[Matrix, list, list]:\n",
    "        n, m = X.shape()\n",
    "        if means is None or stds is None:\n",
    "            means = [sum(row[j] for row in X.data) / n for j in range(m)]\n",
    "            variances = [sum((row[j] - means[j])**2 for row in X.data) / n for j in range(m)]\n",
    "            stds = [max((var ** 0.5), 1e-8) for var in variances]  \n",
    "        \n",
    "        normalized_data = [\n",
    "            [(x - means[j]) / stds[j] if stds[j] != 0 else 0.0 \n",
    "            for j, x in enumerate(row)\n",
    "        ] for row in X.data]\n",
    "        return Matrix(normalized_data), means, stds\n",
    "    \n",
    "    # нормализация тренировочных данных\n",
    "    X_train_norm, train_means, train_stds = normalize(X_train)\n",
    "    \n",
    "    # нормализация тестовых данных\n",
    "    X_test_norm, _, _ = normalize(X_test, train_means, train_stds)\n",
    "    \n",
    "   # PCA\n",
    "    projection_matrix, explained_var = pca(X_train_norm, k)\n",
    "    \n",
    "    # проекция данных\n",
    "    X_pca_train = X_train_norm @ projection_matrix\n",
    "    X_pca_test = X_test_norm @ projection_matrix\n",
    "\n",
    "    \n",
    "    # обучение KNN на исходных данных\n",
    "    knn_orig = KNNClassifier(k=3)\n",
    "    knn_orig.fit(X_train_norm, y_train)\n",
    "    orig_score = knn_orig.score(X_test_norm, y_test)\n",
    "    \n",
    "    # обучение KNN на данных после PCA\n",
    "    knn_pca = KNNClassifier(k=3)\n",
    "    knn_pca.fit(X_pca_train, y_train)\n",
    "    pca_score = knn_pca.score(X_pca_test, y_test)\n",
    "    \n",
    "    print(f\"Точность до PCA: {orig_score:.2f}\")\n",
    "    print(f\"Точность после PCA (k={k}): {pca_score:.2f}\")\n",
    "    print(f\"Объяснённая дисперсия: {explained_var:.2f}\")\n",
    "    \n",
    "    return X_pca_train, explained_var\n",
    "\n",
    "apply_pca_to_dataset('Iris.csv', k=1)"
   ],
   "id": "df93d3d1f495162e",
   "outputs": [
    {
     "name": "stdout",
     "output_type": "stream",
     "text": [
      "Точность до PCA: 0.98\n",
      "Точность после PCA (k=1): 0.98\n",
      "Объяснённая дисперсия: 0.83\n"
     ]
    },
    {
     "data": {
      "text/plain": [
       "(1.2241611261800776\n",
       " -3.3962667280757826\n",
       " -3.9753360721944766\n",
       " -3.89532927591614\n",
       " -0.7784324837585044\n",
       " -4.904181089598276\n",
       " 1.4782996136402278\n",
       " 3.2731653542499526\n",
       " 3.256140842369699\n",
       " -3.944993368481528\n",
       " 2.325667788218108\n",
       " 3.515606847003628\n",
       " 5.131377060709222\n",
       " 1.5890114955522303\n",
       " 0.07572347388982792\n",
       " -4.041538067772924\n",
       " -4.109854708966358\n",
       " -3.7946684321595936\n",
       " 2.5231742494788993\n",
       " -3.5441705604790528\n",
       " 3.8679167709722213\n",
       " 3.387081626600582\n",
       " -3.9105972835420406\n",
       " -3.7749218981478254\n",
       " -4.150192527217724\n",
       " -3.9753360721944766\n",
       " 1.7599277161137623\n",
       " 0.3610425756691849\n",
       " 1.654056742508344\n",
       " 1.051187483151342\n",
       " -3.7539054687489\n",
       " 0.010309005391425707\n",
       " -4.483606207493206\n",
       " -4.001931852984564\n",
       " 3.4546149812740543\n",
       " 4.92333719298586\n",
       " 3.5390443803212177\n",
       " 0.601432186046484\n",
       " -4.36362397488422\n",
       " 1.4928360178031226\n",
       " 2.3575309220048513\n",
       " 1.7882129973595082\n",
       " 2.843995801293864\n",
       " 3.2933314933302222\n",
       " 0.41597956132205627\n",
       " 3.5947074293462693\n",
       " -4.042382818000753\n",
       " 4.132639048421154\n",
       " -4.019790034910993\n",
       " -4.646466049127872\n",
       " 1.22052735002204\n",
       " -4.097744948812954\n",
       " 2.2694105236518647\n",
       " 0.6644759341524352\n",
       " 2.1300454384825724\n",
       " 3.1603892102491757\n",
       " -4.620913870195295\n",
       " 1.1396758035158734\n",
       " 1.7191075295552842\n",
       " 1.2079924447093073\n",
       " 4.055365354455985\n",
       " 2.6504867976425714\n",
       " -4.39354153343784\n",
       " -0.8317931157205409\n",
       " 2.065787718606504\n",
       " -0.10482547928940465\n",
       " -4.370835603583256\n",
       " 1.2035139183234405\n",
       " 2.561573332118713\n",
       " -3.9753360721944766\n",
       " 3.1838826671838047\n",
       " 0.8172275144838601\n",
       " 1.9093519785908277\n",
       " -3.997928855284238\n",
       " -4.012465259447133\n",
       " 0.6802250105547043\n",
       " 0.9796622109591991\n",
       " 0.10163803474312218\n",
       " 2.319863442828043\n",
       " -4.111431062657194\n",
       " 4.308715015305346\n",
       " 1.604336726325915\n",
       " 0.7243165913505027\n",
       " 2.054459945442317\n",
       " 1.8794848035634195\n",
       " -3.784979775924854\n",
       " 2.688516658740097\n",
       " -3.5450153107068823\n",
       " -4.178171350159793\n",
       " 2.2055737083750415\n",
       " -0.5934050041934046\n",
       " 0.3416584235781338\n",
       " 2.2172638634599453\n",
       " 1.8847576966509036\n",
       " 0.5250591659261851\n",
       " -3.3546590144372597\n",
       " -3.2634375917595593\n",
       " 1.9558578236837192\n",
       " 2.9228458489498683\n",
       " -5.10543447378193\n",
       " 0.5016160925177681\n",
       " 0.2680757289187861\n",
       " 5.901109159401216\n",
       " 0.5655101309423742\n",
       " 2.3385719150731274,\n",
       " 0.8284859383345562)"
      ]
     },
     "execution_count": 182,
     "metadata": {},
     "output_type": "execute_result"
    }
   ],
   "execution_count": 182
  },
  {
   "metadata": {},
   "cell_type": "markdown",
   "source": [
    "**Вывод:**\n",
    "\n",
    "Снижение размерности не повлияло на точность модели, что говорит о том, что основной сигнал в данных хорошо сохраняется даже при проекции на одну главную компоненту.\n",
    "\n",
    "83% вариации данных сохраняется после снижения размерности, что подтверждает высокую информативность выбранной главной компоненты.\n",
    "\n",
    "\n",
    "\n"
   ],
   "id": "cfaac183adf249b9"
  },
  {
   "metadata": {},
   "cell_type": "markdown",
   "source": "**Tests**",
   "id": "65cada2a680396c6"
  },
  {
   "metadata": {
    "ExecuteTime": {
     "end_time": "2025-04-24T02:14:54.536615Z",
     "start_time": "2025-04-24T02:14:54.385133Z"
    }
   },
   "cell_type": "code",
   "source": [
    "import matplotlib as plt\n",
    "\n",
    "def test_plot_pca_projection_show():\n",
    "    # пример проекции (n x 2)\n",
    "    X_proj = Matrix([[1, 2], [2, 1], [3, 3], [4, 5], [5, 4]])\n",
    "    fig = plot_pca_projection(X_proj)\n",
    "\n",
    "    # отобража график прямо в ноутбуке\n",
    "    ax = fig.axes[0]\n",
    "    fig.set_size_inches(5, 4)  # размер графика\n",
    "    plt.figure(figsize=(5, 4))\n",
    "    plt.title(ax.get_title())\n",
    "    plt.xlabel(ax.get_xlabel())\n",
    "    plt.ylabel(ax.get_ylabel())\n",
    "    plt.grid(True)\n",
    "\n",
    "    # Получаем точки из scatter и рисуем\n",
    "    paths = ax.collections[0].get_offsets()\n",
    "    xs, ys = zip(*paths)\n",
    "    plt.scatter(xs, ys, color='blue', alpha=0.6)\n",
    "\n",
    "    plt.show()\n",
    "\n",
    "test_plot_pca_projection_show()\n",
    "\n",
    "def test_plot_linear_points():\n",
    "    X_proj = Matrix([[i, i] for i in range(5)])  # Диагональ\n",
    "    fig = plot_pca_projection(X_proj)\n",
    "    ax = fig.axes[0]\n",
    "    points = ax.collections[0].get_offsets()\n",
    "    assert all(abs(x - y) < 1e-8 for x, y in points), \"Все точки должны лежать на диагонали\"\n",
    "    print(\"линейные точки: тест пройден\")\n",
    "\n",
    "test_plot_linear_points()"
   ],
   "id": "4b4152f9bc75ece1",
   "outputs": [
    {
     "data": {
      "text/plain": [
       "<Figure size 500x400 with 1 Axes>"
      ],
      "image/png": "[encoded data removed]"
     },
     "metadata": {},
     "output_type": "display_data"
    },
    {
     "name": "stdout",
     "output_type": "stream",
     "text": [
      "линейные точки: тест пройден\n"
     ]
    }
   ],
   "execution_count": 183
  },
  {
   "metadata": {
    "ExecuteTime": {
     "end_time": "2025-04-24T02:35:21.728390Z",
     "start_time": "2025-04-24T02:35:21.723978Z"
    }
   },
   "cell_type": "code",
   "source": [
    "def test_handle_missing_values():\n",
    "    X = Matrix([\n",
    "        [1.0, 2.0, None],\n",
    "        [2.0, None, 3.0],\n",
    "        [None, 4.0, 6.0]\n",
    "    ])\n",
    "\n",
    "    # Средние по столбцам:\n",
    "    # col 0: (1+2)/2 = 1.5\n",
    "    # col 1: (2+4)/2 = 3.0\n",
    "    # col 2: (3+6)/2 = 4.5\n",
    "\n",
    "    X_filled = handle_missing_values(X)\n",
    "    print(X_filled)\n",
    "test_handle_missing_values()"
   ],
   "id": "f35f7a4b8ffa2466",
   "outputs": [
    {
     "name": "stdout",
     "output_type": "stream",
     "text": [
      "1.0\t2.0\t4.5\n",
      "2.0\t3.0\t3.0\n",
      "1.5\t4.0\t6.0\n"
     ]
    }
   ],
   "execution_count": 197
  },
  {
   "metadata": {
    "ExecuteTime": {
     "end_time": "2025-04-24T02:35:52.089845Z",
     "start_time": "2025-04-24T02:35:52.086135Z"
    }
   },
   "cell_type": "code",
   "source": [
    "def test_auto_select_k():\n",
    "    # Пример: 4 собственных значения, 95% порог\n",
    "    eigenvalues = [4.0, 2.0, 1.0, 0.5]\n",
    "    threshold = 0.95  # Нужно покрыть 95% дисперсии\n",
    "\n",
    "    # Сумма всех = 7.5, 95% от неё ≈ 7.125\n",
    "    # 4.0 + 2.0 + 1.0 = 7.0 (93.3%)\n",
    "    # 4.0 + 2.0 + 1.0 + 0.5 = 7.5 (100%) → k = 4\n",
    "    k = auto_select_k(eigenvalues, threshold)\n",
    "    \n",
    "    print(k)\n",
    "    \n",
    "test_auto_select_k()"
   ],
   "id": "648a036b8131241f",
   "outputs": [
    {
     "name": "stdout",
     "output_type": "stream",
     "text": [
      "4\n"
     ]
    }
   ],
   "execution_count": 200
  },
  {
   "metadata": {
    "ExecuteTime": {
     "end_time": "2025-04-24T02:40:45.764594Z",
     "start_time": "2025-04-24T02:40:44.595729Z"
    }
   },
   "cell_type": "code",
   "source": [
    "def test_gauss_solver():\n",
    "    print(\"\\nтестирование метода Гаусса...\")\n",
    "    A = Matrix([[2, 1], [1, 2]])\n",
    "    b = Matrix([[4], [5]])\n",
    "    solution = gauss_solver(A, b)[0]\n",
    "    expected = Matrix([[1.0], [2.0]])\n",
    "    assert solution.data == expected.data, \"неправильное решение СЛАУ\"\n",
    "    print(\"тест пройден\")\n",
    "\n",
    "def test_center_data():\n",
    "    print(\"\\nтестирование центрирования данных...\")\n",
    "    X = Matrix([[1, 2], [3, 4]])\n",
    "    X_centered = center_data(X)\n",
    "    expected = Matrix([[-1, -1], [1, 1]])\n",
    "    assert X_centered.data == expected.data, \"центрирование выполнено неверно\"\n",
    "    print(\"тест пройден\")\n",
    "\n",
    "def test_covariance_matrix():\n",
    "    print(\"\\nтестирование ковариационной матрицы...\")\n",
    "    X = Matrix([[1, 2], [3, 4]])\n",
    "    cov = covariance_matrix(center_data(X))\n",
    "    expected = Matrix([[2.0, 2.0], [2.0, 2.0]])\n",
    "    assert cov.data == expected.data, \"неверный расчет ковариации\"\n",
    "    print(\"тест пройден\")\n",
    "\n",
    "def test_explained_variance_ratio():\n",
    "    print(\"\\nтестирование объясненной дисперсии...\")\n",
    "    eigenvalues = [4.0, 2.0, 1.0]\n",
    "    ratio = explained_variance_ratio(eigenvalues, k=2)\n",
    "    assert abs(ratio - 0.857) < 0.01, \"неправильный расчет доли дисперсии\"\n",
    "    print(\"тест пройден\")\n",
    "\n",
    "def test_handle_missing_values():\n",
    "    print(\"\\nтестирование обработки пропусков...\")\n",
    "    X = Matrix([[1.0, None], [None, 4.0], [3.0, 6.0]])\n",
    "    processed = handle_missing_values(X)\n",
    "    expected = Matrix([[1.0, 5.0], [2.0, 4.0], [3.0, 6.0]])\n",
    "    assert processed.data == expected.data, \"пропуски заполнены неверно\"\n",
    "    print(\"тест пройден\")\n",
    "\n",
    "def test_auto_select_k():\n",
    "    print(\"\\nтестирование автоматического выбора k...\")\n",
    "    eigenvalues = [4.0, 2.0, 1.0, 0.5]\n",
    "    k = auto_select_k(eigenvalues, threshold=0.95)\n",
    "    assert k == 4, \"неверный выбор числа компонент\"\n",
    "    print(\"тест пройден\")\n",
    "\n",
    "def test_pca_projection():\n",
    "    print(\"\\nтестирование проекции PCA...\")\n",
    "    X = Matrix([[2, 1], [1, 2]])\n",
    "    proj, _ = pca(X, k=1)\n",
    "    assert proj.shape() == (2,1), \"неверная размерность проекции\"\n",
    "    print(\"тест пройден\")\n",
    "\n",
    "def test_all_functions():\n",
    "    test_gauss_solver()\n",
    "    test_center_data()\n",
    "    test_covariance_matrix()\n",
    "    test_explained_variance_ratio()\n",
    "    test_handle_missing_values()\n",
    "    test_auto_select_k()\n",
    "    test_pca_projection()\n",
    "    print(\"\\nвсе основные тесты пройдены!\")\n",
    "\n",
    "test_all_functions()"
   ],
   "id": "737e9e69f5686a8",
   "outputs": [
    {
     "name": "stdout",
     "output_type": "stream",
     "text": [
      "\n",
      "тестирование метода Гаусса...\n",
      "тест пройден\n",
      "\n",
      "тестирование центрирования данных...\n",
      "тест пройден\n",
      "\n",
      "тестирование ковариационной матрицы...\n",
      "тест пройден\n",
      "\n",
      "тестирование объясненной дисперсии...\n",
      "тест пройден\n",
      "\n",
      "тестирование обработки пропусков...\n",
      "тест пройден\n",
      "\n",
      "тестирование автоматического выбора k...\n",
      "тест пройден\n",
      "\n",
      "тестирование проекции PCA...\n",
      "тест пройден\n",
      "\n",
      "все основные тесты пройдены!\n"
     ]
    }
   ],
   "execution_count": 206
  },
  {
   "metadata": {},
   "cell_type": "code",
   "outputs": [],
   "execution_count": null,
   "source": "",
   "id": "7d80f19eab01977c"
  }
 ],
 "metadata": {
  "kernelspec": {
   "display_name": "Python 3",
   "language": "python",
   "name": "python3"
  },
  "language_info": {
   "codemirror_mode": {
    "name": "ipython",
    "version": 2
   },
   "file_extension": ".py",
   "mimetype": "text/x-python",
   "name": "python",
   "nbconvert_exporter": "python",
   "pygments_lexer": "ipython2",
   "version": "2.7.6"
  }
 },
 "nbformat": 4,
 "nbformat_minor": 5
}
